{
 "cells": [
  {
   "cell_type": "code",
   "execution_count": 0,
   "metadata": {
    "application/vnd.databricks.v1+cell": {
     "cellMetadata": {
      "byteLimit": 2048000,
      "rowLimit": 10000
     },
     "inputWidgets": {},
     "nuid": "6de78b3b-e067-4481-9032-dbca3dd99dd7",
     "showTitle": false,
     "tableResultSettingsMap": {},
     "title": ""
    }
   },
   "outputs": [
    {
     "output_type": "execute_result",
     "data": {
      "text/plain": [
       "DataFrame[]"
      ]
     },
     "execution_count": 7,
     "metadata": {},
     "output_type": "execute_result"
    }
   ],
   "source": [
    "\n",
    "# Load payments\n",
    "if(spark._jsparkSession.catalog().tableExists('default', 'staging_payments') == True):\n",
    "    spark.sql(\"DROP TABLE IF EXISTS staging_payments\")\n",
    "spark.sql(\"CREATE TABLE staging_payments USING DELTA LOCATION '/delta/payments'\")\n"
   ]
  },
  {
   "cell_type": "code",
   "execution_count": 0,
   "metadata": {
    "application/vnd.databricks.v1+cell": {
     "cellMetadata": {
      "byteLimit": 2048000,
      "rowLimit": 10000
     },
     "inputWidgets": {},
     "nuid": "1ce6b987-e464-49bf-a5c3-a0c953e438a6",
     "showTitle": false,
     "tableResultSettingsMap": {},
     "title": ""
    }
   },
   "outputs": [
    {
     "output_type": "execute_result",
     "data": {
      "text/plain": [
       "DataFrame[]"
      ]
     },
     "execution_count": 8,
     "metadata": {},
     "output_type": "execute_result"
    }
   ],
   "source": [
    "# Load riders\n",
    "if(spark._jsparkSession.catalog().tableExists('default', 'staging_riders') == True):\n",
    "    spark.sql(\"DROP TABLE IF EXISTS staging_riders\")\n",
    "spark.sql(\"CREATE TABLE staging_riders USING DELTA LOCATION '/delta/riders'\")\n"
   ]
  },
  {
   "cell_type": "code",
   "execution_count": 0,
   "metadata": {
    "application/vnd.databricks.v1+cell": {
     "cellMetadata": {
      "byteLimit": 2048000,
      "rowLimit": 10000
     },
     "inputWidgets": {},
     "nuid": "a5acc954-3544-49c5-9ccf-c44177de9046",
     "showTitle": false,
     "tableResultSettingsMap": {},
     "title": ""
    }
   },
   "outputs": [
    {
     "output_type": "execute_result",
     "data": {
      "text/plain": [
       "DataFrame[]"
      ]
     },
     "execution_count": 9,
     "metadata": {},
     "output_type": "execute_result"
    }
   ],
   "source": [
    "# Load stations\n",
    "if(spark._jsparkSession.catalog().tableExists('default', 'staging_stations') == True):\n",
    "    spark.sql(\"DROP TABLE IF EXISTS staging_stations\")    \n",
    "spark.sql(\"CREATE TABLE staging_stations USING DELTA LOCATION '/delta/stations'\")\n"
   ]
  },
  {
   "cell_type": "code",
   "execution_count": 0,
   "metadata": {
    "application/vnd.databricks.v1+cell": {
     "cellMetadata": {
      "byteLimit": 2048000,
      "rowLimit": 10000
     },
     "inputWidgets": {},
     "nuid": "3bc945b3-6c10-450b-94c3-9367161d6e2c",
     "showTitle": false,
     "tableResultSettingsMap": {},
     "title": ""
    }
   },
   "outputs": [
    {
     "output_type": "execute_result",
     "data": {
      "text/plain": [
       "DataFrame[]"
      ]
     },
     "execution_count": 10,
     "metadata": {},
     "output_type": "execute_result"
    }
   ],
   "source": [
    "# Load trips\n",
    "if(spark._jsparkSession.catalog().tableExists('default', 'staging_trips') == True):\n",
    "    spark.sql(\"DROP TABLE IF EXISTS staging_trips\")\n",
    "spark.sql(\"CREATE TABLE staging_trips USING DELTA LOCATION '/delta/trips'\")\n",
    "     "
   ]
  }
 ],
 "metadata": {
  "application/vnd.databricks.v1+notebook": {
   "computePreferences": null,
   "dashboards": [],
   "environmentMetadata": {
    "base_environment": "",
    "client": "1"
   },
   "language": "python",
   "notebookMetadata": {
    "pythonIndentUnit": 4
   },
   "notebookName": "4_Load_SparkSQL_from_DeltaTables",
   "widgets": {}
  },
  "language_info": {
   "name": "python"
  }
 },
 "nbformat": 4,
 "nbformat_minor": 0
}